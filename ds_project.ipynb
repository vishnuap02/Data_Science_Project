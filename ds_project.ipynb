{
 "cells": [
  {
   "cell_type": "markdown",
   "metadata": {},
   "source": [
    "<h3 style=\"font-family:serif\"><b> Importing the required libraries</b></h3>"
   ]
  },
  {
   "cell_type": "code",
   "execution_count": 1,
   "metadata": {
    "execution": {
     "iopub.execute_input": "2022-11-26T04:51:33.997843Z",
     "iopub.status.busy": "2022-11-26T04:51:33.996793Z",
     "iopub.status.idle": "2022-11-26T04:51:35.468317Z",
     "shell.execute_reply": "2022-11-26T04:51:35.467399Z",
     "shell.execute_reply.started": "2022-11-26T04:51:33.997728Z"
    }
   },
   "outputs": [],
   "source": [
    "import warnings\n",
    "warnings.filterwarnings('ignore')\n",
    "\n",
    "import numpy as np \n",
    "import pandas as pd \n",
    "\n",
    "import matplotlib.pyplot as plt\n",
    "import seaborn as sns\n",
    "\n",
    "from sklearn.preprocessing import StandardScaler\n",
    "from sklearn.model_selection import train_test_split, cross_val_score\n",
    "\n",
    "from sklearn.linear_model import LinearRegression\n",
    "from sklearn.tree import DecisionTreeRegressor\n",
    "from sklearn.ensemble import RandomForestRegressor\n",
    "\n",
    "from sklearn.metrics import mean_absolute_error"
   ]
  },
  {
   "cell_type": "markdown",
   "metadata": {},
   "source": [
    "<h3 style=\"font-family:serif\"><b> Reading the dataset </b></h3>"
   ]
  },
  {
   "cell_type": "code",
   "execution_count": 2,
   "metadata": {
    "execution": {
     "iopub.execute_input": "2022-11-26T04:51:35.485149Z",
     "iopub.status.busy": "2022-11-26T04:51:35.484681Z",
     "iopub.status.idle": "2022-11-26T04:51:35.603566Z",
     "shell.execute_reply": "2022-11-26T04:51:35.602779Z",
     "shell.execute_reply.started": "2022-11-26T04:51:35.485083Z"
    }
   },
   "outputs": [
    {
     "name": "stdout",
     "output_type": "stream",
     "text": [
      "number of rows - 20026\n",
      "number of columns - 16\n"
     ]
    }
   ],
   "source": [
    "data = pd.read_csv('E:\\Downloads\\Cardekho_Extract.csv')\n",
    "print(f'''number of rows - {data.shape[0]}\n",
    "number of columns - {data.shape[1]}''')"
   ]
  },
  {
   "cell_type": "code",
   "execution_count": 3,
   "metadata": {
    "execution": {
     "iopub.execute_input": "2022-11-26T04:51:35.606181Z",
     "iopub.status.busy": "2022-11-26T04:51:35.605645Z",
     "iopub.status.idle": "2022-11-26T04:51:35.633507Z",
     "shell.execute_reply": "2022-11-26T04:51:35.632792Z",
     "shell.execute_reply.started": "2022-11-26T04:51:35.606141Z"
    }
   },
   "outputs": [
    {
     "data": {
      "text/html": [
       "<div>\n",
       "<style scoped>\n",
       "    .dataframe tbody tr th:only-of-type {\n",
       "        vertical-align: middle;\n",
       "    }\n",
       "\n",
       "    .dataframe tbody tr th {\n",
       "        vertical-align: top;\n",
       "    }\n",
       "\n",
       "    .dataframe thead th {\n",
       "        text-align: right;\n",
       "    }\n",
       "</style>\n",
       "<table border=\"1\" class=\"dataframe\">\n",
       "  <thead>\n",
       "    <tr style=\"text-align: right;\">\n",
       "      <th></th>\n",
       "      <th>Source.Name</th>\n",
       "      <th>web-scraper-order</th>\n",
       "      <th>web-scraper-start-url</th>\n",
       "      <th>full_name</th>\n",
       "      <th>selling_price</th>\n",
       "      <th>new-price</th>\n",
       "      <th>year</th>\n",
       "      <th>seller_type</th>\n",
       "      <th>km_driven</th>\n",
       "      <th>owner_type</th>\n",
       "      <th>fuel_type</th>\n",
       "      <th>transmission_type</th>\n",
       "      <th>mileage</th>\n",
       "      <th>engine</th>\n",
       "      <th>max_power</th>\n",
       "      <th>seats</th>\n",
       "    </tr>\n",
       "  </thead>\n",
       "  <tbody>\n",
       "    <tr>\n",
       "      <th>0</th>\n",
       "      <td>cardekho_extract(0-2000).csv</td>\n",
       "      <td>1611917819-1662</td>\n",
       "      <td>https://www.cardekho.com/used-car-details/used...</td>\n",
       "      <td>Maruti Alto Std</td>\n",
       "      <td>1.2 Lakh*</td>\n",
       "      <td>NaN</td>\n",
       "      <td>2012.0</td>\n",
       "      <td>Individual</td>\n",
       "      <td>1,20,000 kms</td>\n",
       "      <td>First Owner</td>\n",
       "      <td>Petrol</td>\n",
       "      <td>Manual</td>\n",
       "      <td>Mileage19.7 kmpl</td>\n",
       "      <td>Engine796 CC</td>\n",
       "      <td>Max Power46.3 bhp</td>\n",
       "      <td>Seats5</td>\n",
       "    </tr>\n",
       "    <tr>\n",
       "      <th>1</th>\n",
       "      <td>cardekho_extract(0-2000).csv</td>\n",
       "      <td>1611918361-1902</td>\n",
       "      <td>https://www.cardekho.com/used-car-details/used...</td>\n",
       "      <td>Hyundai Grand i10 Asta</td>\n",
       "      <td>5.5 Lakh*</td>\n",
       "      <td>New Car (On-Road Price) : Rs.7.11-7.48 Lakh*</td>\n",
       "      <td>2016.0</td>\n",
       "      <td>Individual</td>\n",
       "      <td>20,000 kms</td>\n",
       "      <td>First Owner</td>\n",
       "      <td>Petrol</td>\n",
       "      <td>Manual</td>\n",
       "      <td>Mileage18.9 kmpl</td>\n",
       "      <td>Engine1197 CC</td>\n",
       "      <td>Max Power82 bhp</td>\n",
       "      <td>Seats5</td>\n",
       "    </tr>\n",
       "    <tr>\n",
       "      <th>2</th>\n",
       "      <td>cardekho_extract(0-2000).csv</td>\n",
       "      <td>1611917012-1306</td>\n",
       "      <td>https://www.cardekho.com/used-car-details/used...</td>\n",
       "      <td>Hyundai i20 Asta</td>\n",
       "      <td>2.15 Lakh*</td>\n",
       "      <td>NaN</td>\n",
       "      <td>2010.0</td>\n",
       "      <td>Individual</td>\n",
       "      <td>60,000 kms</td>\n",
       "      <td>First Owner</td>\n",
       "      <td>Petrol</td>\n",
       "      <td>Manual</td>\n",
       "      <td>Mileage17.0 kmpl</td>\n",
       "      <td>Engine1197 CC</td>\n",
       "      <td>Max Power80 bhp</td>\n",
       "      <td>Seats5</td>\n",
       "    </tr>\n",
       "    <tr>\n",
       "      <th>3</th>\n",
       "      <td>cardekho_extract(0-2000).csv</td>\n",
       "      <td>1611917695-1607</td>\n",
       "      <td>https://www.cardekho.com/used-car-details/used...</td>\n",
       "      <td>Maruti Alto K10 2010-2014 VXI</td>\n",
       "      <td>2.26 Lakh*</td>\n",
       "      <td>NaN</td>\n",
       "      <td>2012.0</td>\n",
       "      <td>Individual</td>\n",
       "      <td>37,000 kms</td>\n",
       "      <td>First Owner</td>\n",
       "      <td>Petrol</td>\n",
       "      <td>Manual</td>\n",
       "      <td>Mileage20.92 kmpl</td>\n",
       "      <td>Engine998 CC</td>\n",
       "      <td>Max Power67.1 bhp</td>\n",
       "      <td>Seats5</td>\n",
       "    </tr>\n",
       "    <tr>\n",
       "      <th>4</th>\n",
       "      <td>cardekho_extract(0-2000).csv</td>\n",
       "      <td>1611914861-367</td>\n",
       "      <td>https://www.cardekho.com/used-car-details/used...</td>\n",
       "      <td>Ford Ecosport 2015-2021 1.5 TDCi Titanium BSIV</td>\n",
       "      <td>5.7 Lakh*</td>\n",
       "      <td>New Car (On-Road Price) : Rs.10.14-13.79 Lakh*</td>\n",
       "      <td>2015.0</td>\n",
       "      <td>Dealer</td>\n",
       "      <td>30,000 kms</td>\n",
       "      <td>First Owner</td>\n",
       "      <td>Diesel</td>\n",
       "      <td>Manual</td>\n",
       "      <td>Mileage22.77 kmpl</td>\n",
       "      <td>Engine1498 CC</td>\n",
       "      <td>Max Power98.59 bhp</td>\n",
       "      <td>Seats5</td>\n",
       "    </tr>\n",
       "  </tbody>\n",
       "</table>\n",
       "</div>"
      ],
      "text/plain": [
       "                    Source.Name web-scraper-order  \\\n",
       "0  cardekho_extract(0-2000).csv   1611917819-1662   \n",
       "1  cardekho_extract(0-2000).csv   1611918361-1902   \n",
       "2  cardekho_extract(0-2000).csv   1611917012-1306   \n",
       "3  cardekho_extract(0-2000).csv   1611917695-1607   \n",
       "4  cardekho_extract(0-2000).csv    1611914861-367   \n",
       "\n",
       "                               web-scraper-start-url  \\\n",
       "0  https://www.cardekho.com/used-car-details/used...   \n",
       "1  https://www.cardekho.com/used-car-details/used...   \n",
       "2  https://www.cardekho.com/used-car-details/used...   \n",
       "3  https://www.cardekho.com/used-car-details/used...   \n",
       "4  https://www.cardekho.com/used-car-details/used...   \n",
       "\n",
       "                                        full_name selling_price  \\\n",
       "0                                 Maruti Alto Std     1.2 Lakh*   \n",
       "1                          Hyundai Grand i10 Asta     5.5 Lakh*   \n",
       "2                                Hyundai i20 Asta    2.15 Lakh*   \n",
       "3                   Maruti Alto K10 2010-2014 VXI    2.26 Lakh*   \n",
       "4  Ford Ecosport 2015-2021 1.5 TDCi Titanium BSIV     5.7 Lakh*   \n",
       "\n",
       "                                        new-price    year seller_type  \\\n",
       "0                                             NaN  2012.0  Individual   \n",
       "1    New Car (On-Road Price) : Rs.7.11-7.48 Lakh*  2016.0  Individual   \n",
       "2                                             NaN  2010.0  Individual   \n",
       "3                                             NaN  2012.0  Individual   \n",
       "4  New Car (On-Road Price) : Rs.10.14-13.79 Lakh*  2015.0      Dealer   \n",
       "\n",
       "      km_driven   owner_type fuel_type transmission_type            mileage  \\\n",
       "0  1,20,000 kms  First Owner    Petrol            Manual   Mileage19.7 kmpl   \n",
       "1    20,000 kms  First Owner    Petrol            Manual   Mileage18.9 kmpl   \n",
       "2    60,000 kms  First Owner    Petrol            Manual   Mileage17.0 kmpl   \n",
       "3    37,000 kms  First Owner    Petrol            Manual  Mileage20.92 kmpl   \n",
       "4    30,000 kms  First Owner    Diesel            Manual  Mileage22.77 kmpl   \n",
       "\n",
       "          engine           max_power   seats  \n",
       "0   Engine796 CC   Max Power46.3 bhp  Seats5  \n",
       "1  Engine1197 CC     Max Power82 bhp  Seats5  \n",
       "2  Engine1197 CC     Max Power80 bhp  Seats5  \n",
       "3   Engine998 CC   Max Power67.1 bhp  Seats5  \n",
       "4  Engine1498 CC  Max Power98.59 bhp  Seats5  "
      ]
     },
     "execution_count": 3,
     "metadata": {},
     "output_type": "execute_result"
    }
   ],
   "source": [
    "data.head()"
   ]
  },
  {
   "cell_type": "markdown",
   "metadata": {},
   "source": [
    "<h3 style=\"font-family:serif\"><b>Checking NaN values</b></h3>"
   ]
  },
  {
   "cell_type": "code",
   "execution_count": 4,
   "metadata": {
    "execution": {
     "iopub.execute_input": "2022-11-26T04:51:35.635238Z",
     "iopub.status.busy": "2022-11-26T04:51:35.634897Z",
     "iopub.status.idle": "2022-11-26T04:51:35.750923Z",
     "shell.execute_reply": "2022-11-26T04:51:35.749906Z",
     "shell.execute_reply.started": "2022-11-26T04:51:35.635202Z"
    }
   },
   "outputs": [
    {
     "data": {
      "text/html": [
       "<style  type=\"text/css\" >\n",
       "    #T_9403f1d3_6d49_11ed_a788_5cbaef955f74row0_col2 {\n",
       "            background-color:  #e5eff9;\n",
       "            color:  #000000;\n",
       "        }    #T_9403f1d3_6d49_11ed_a788_5cbaef955f74row0_col3 {\n",
       "            background-color:  #e5eff9;\n",
       "            color:  #000000;\n",
       "        }    #T_9403f1d3_6d49_11ed_a788_5cbaef955f74row1_col2 {\n",
       "            background-color:  #e5eff9;\n",
       "            color:  #000000;\n",
       "        }    #T_9403f1d3_6d49_11ed_a788_5cbaef955f74row1_col3 {\n",
       "            background-color:  #e5eff9;\n",
       "            color:  #000000;\n",
       "        }    #T_9403f1d3_6d49_11ed_a788_5cbaef955f74row2_col2 {\n",
       "            background-color:  #e5eff9;\n",
       "            color:  #000000;\n",
       "        }    #T_9403f1d3_6d49_11ed_a788_5cbaef955f74row2_col3 {\n",
       "            background-color:  #e5eff9;\n",
       "            color:  #000000;\n",
       "        }    #T_9403f1d3_6d49_11ed_a788_5cbaef955f74row3_col2 {\n",
       "            background-color:  #e4eff9;\n",
       "            color:  #000000;\n",
       "        }    #T_9403f1d3_6d49_11ed_a788_5cbaef955f74row3_col3 {\n",
       "            background-color:  #e4eff9;\n",
       "            color:  #000000;\n",
       "        }    #T_9403f1d3_6d49_11ed_a788_5cbaef955f74row4_col2 {\n",
       "            background-color:  #e4eff9;\n",
       "            color:  #000000;\n",
       "        }    #T_9403f1d3_6d49_11ed_a788_5cbaef955f74row4_col3 {\n",
       "            background-color:  #e4eff9;\n",
       "            color:  #000000;\n",
       "        }    #T_9403f1d3_6d49_11ed_a788_5cbaef955f74row5_col2 {\n",
       "            background-color:  #08326e;\n",
       "            color:  #f1f1f1;\n",
       "        }    #T_9403f1d3_6d49_11ed_a788_5cbaef955f74row5_col3 {\n",
       "            background-color:  #08326e;\n",
       "            color:  #f1f1f1;\n",
       "        }    #T_9403f1d3_6d49_11ed_a788_5cbaef955f74row6_col2 {\n",
       "            background-color:  #e4eff9;\n",
       "            color:  #000000;\n",
       "        }    #T_9403f1d3_6d49_11ed_a788_5cbaef955f74row6_col3 {\n",
       "            background-color:  #e4eff9;\n",
       "            color:  #000000;\n",
       "        }    #T_9403f1d3_6d49_11ed_a788_5cbaef955f74row7_col2 {\n",
       "            background-color:  #e4eff9;\n",
       "            color:  #000000;\n",
       "        }    #T_9403f1d3_6d49_11ed_a788_5cbaef955f74row7_col3 {\n",
       "            background-color:  #e4eff9;\n",
       "            color:  #000000;\n",
       "        }    #T_9403f1d3_6d49_11ed_a788_5cbaef955f74row8_col2 {\n",
       "            background-color:  #e4eff9;\n",
       "            color:  #000000;\n",
       "        }    #T_9403f1d3_6d49_11ed_a788_5cbaef955f74row8_col3 {\n",
       "            background-color:  #e4eff9;\n",
       "            color:  #000000;\n",
       "        }    #T_9403f1d3_6d49_11ed_a788_5cbaef955f74row9_col2 {\n",
       "            background-color:  #e4eff9;\n",
       "            color:  #000000;\n",
       "        }    #T_9403f1d3_6d49_11ed_a788_5cbaef955f74row9_col3 {\n",
       "            background-color:  #e4eff9;\n",
       "            color:  #000000;\n",
       "        }    #T_9403f1d3_6d49_11ed_a788_5cbaef955f74row10_col2 {\n",
       "            background-color:  #e4eff9;\n",
       "            color:  #000000;\n",
       "        }    #T_9403f1d3_6d49_11ed_a788_5cbaef955f74row10_col3 {\n",
       "            background-color:  #e4eff9;\n",
       "            color:  #000000;\n",
       "        }    #T_9403f1d3_6d49_11ed_a788_5cbaef955f74row11_col2 {\n",
       "            background-color:  #e4eff9;\n",
       "            color:  #000000;\n",
       "        }    #T_9403f1d3_6d49_11ed_a788_5cbaef955f74row11_col3 {\n",
       "            background-color:  #e4eff9;\n",
       "            color:  #000000;\n",
       "        }    #T_9403f1d3_6d49_11ed_a788_5cbaef955f74row12_col2 {\n",
       "            background-color:  #e4eff9;\n",
       "            color:  #000000;\n",
       "        }    #T_9403f1d3_6d49_11ed_a788_5cbaef955f74row12_col3 {\n",
       "            background-color:  #e4eff9;\n",
       "            color:  #000000;\n",
       "        }    #T_9403f1d3_6d49_11ed_a788_5cbaef955f74row13_col2 {\n",
       "            background-color:  #e3eef9;\n",
       "            color:  #000000;\n",
       "        }    #T_9403f1d3_6d49_11ed_a788_5cbaef955f74row13_col3 {\n",
       "            background-color:  #e3eef9;\n",
       "            color:  #000000;\n",
       "        }    #T_9403f1d3_6d49_11ed_a788_5cbaef955f74row14_col2 {\n",
       "            background-color:  #e3eef9;\n",
       "            color:  #000000;\n",
       "        }    #T_9403f1d3_6d49_11ed_a788_5cbaef955f74row14_col3 {\n",
       "            background-color:  #e3eef9;\n",
       "            color:  #000000;\n",
       "        }    #T_9403f1d3_6d49_11ed_a788_5cbaef955f74row15_col2 {\n",
       "            background-color:  #e3eef8;\n",
       "            color:  #000000;\n",
       "        }    #T_9403f1d3_6d49_11ed_a788_5cbaef955f74row15_col3 {\n",
       "            background-color:  #e3eef8;\n",
       "            color:  #000000;\n",
       "        }</style><table id=\"T_9403f1d3_6d49_11ed_a788_5cbaef955f74\" ><thead>    <tr>        <th class=\"blank level0\" ></th>        <th class=\"col_heading level0 col0\" >features</th>        <th class=\"col_heading level0 col1\" >dtypes</th>        <th class=\"col_heading level0 col2\" >NaN count</th>        <th class=\"col_heading level0 col3\" >NaN percentage</th>    </tr></thead><tbody>\n",
       "                <tr>\n",
       "                        <th id=\"T_9403f1d3_6d49_11ed_a788_5cbaef955f74level0_row0\" class=\"row_heading level0 row0\" >0</th>\n",
       "                        <td id=\"T_9403f1d3_6d49_11ed_a788_5cbaef955f74row0_col0\" class=\"data row0 col0\" >Source.Name</td>\n",
       "                        <td id=\"T_9403f1d3_6d49_11ed_a788_5cbaef955f74row0_col1\" class=\"data row0 col1\" >object</td>\n",
       "                        <td id=\"T_9403f1d3_6d49_11ed_a788_5cbaef955f74row0_col2\" class=\"data row0 col2\" >0</td>\n",
       "                        <td id=\"T_9403f1d3_6d49_11ed_a788_5cbaef955f74row0_col3\" class=\"data row0 col3\" >0.000000</td>\n",
       "            </tr>\n",
       "            <tr>\n",
       "                        <th id=\"T_9403f1d3_6d49_11ed_a788_5cbaef955f74level0_row1\" class=\"row_heading level0 row1\" >1</th>\n",
       "                        <td id=\"T_9403f1d3_6d49_11ed_a788_5cbaef955f74row1_col0\" class=\"data row1 col0\" >web-scraper-order</td>\n",
       "                        <td id=\"T_9403f1d3_6d49_11ed_a788_5cbaef955f74row1_col1\" class=\"data row1 col1\" >object</td>\n",
       "                        <td id=\"T_9403f1d3_6d49_11ed_a788_5cbaef955f74row1_col2\" class=\"data row1 col2\" >0</td>\n",
       "                        <td id=\"T_9403f1d3_6d49_11ed_a788_5cbaef955f74row1_col3\" class=\"data row1 col3\" >0.000000</td>\n",
       "            </tr>\n",
       "            <tr>\n",
       "                        <th id=\"T_9403f1d3_6d49_11ed_a788_5cbaef955f74level0_row2\" class=\"row_heading level0 row2\" >2</th>\n",
       "                        <td id=\"T_9403f1d3_6d49_11ed_a788_5cbaef955f74row2_col0\" class=\"data row2 col0\" >web-scraper-start-url</td>\n",
       "                        <td id=\"T_9403f1d3_6d49_11ed_a788_5cbaef955f74row2_col1\" class=\"data row2 col1\" >object</td>\n",
       "                        <td id=\"T_9403f1d3_6d49_11ed_a788_5cbaef955f74row2_col2\" class=\"data row2 col2\" >0</td>\n",
       "                        <td id=\"T_9403f1d3_6d49_11ed_a788_5cbaef955f74row2_col3\" class=\"data row2 col3\" >0.000000</td>\n",
       "            </tr>\n",
       "            <tr>\n",
       "                        <th id=\"T_9403f1d3_6d49_11ed_a788_5cbaef955f74level0_row3\" class=\"row_heading level0 row3\" >3</th>\n",
       "                        <td id=\"T_9403f1d3_6d49_11ed_a788_5cbaef955f74row3_col0\" class=\"data row3 col0\" >full_name</td>\n",
       "                        <td id=\"T_9403f1d3_6d49_11ed_a788_5cbaef955f74row3_col1\" class=\"data row3 col1\" >object</td>\n",
       "                        <td id=\"T_9403f1d3_6d49_11ed_a788_5cbaef955f74row3_col2\" class=\"data row3 col2\" >46</td>\n",
       "                        <td id=\"T_9403f1d3_6d49_11ed_a788_5cbaef955f74row3_col3\" class=\"data row3 col3\" >0.002297</td>\n",
       "            </tr>\n",
       "            <tr>\n",
       "                        <th id=\"T_9403f1d3_6d49_11ed_a788_5cbaef955f74level0_row4\" class=\"row_heading level0 row4\" >4</th>\n",
       "                        <td id=\"T_9403f1d3_6d49_11ed_a788_5cbaef955f74row4_col0\" class=\"data row4 col0\" >selling_price</td>\n",
       "                        <td id=\"T_9403f1d3_6d49_11ed_a788_5cbaef955f74row4_col1\" class=\"data row4 col1\" >object</td>\n",
       "                        <td id=\"T_9403f1d3_6d49_11ed_a788_5cbaef955f74row4_col2\" class=\"data row4 col2\" >46</td>\n",
       "                        <td id=\"T_9403f1d3_6d49_11ed_a788_5cbaef955f74row4_col3\" class=\"data row4 col3\" >0.002297</td>\n",
       "            </tr>\n",
       "            <tr>\n",
       "                        <th id=\"T_9403f1d3_6d49_11ed_a788_5cbaef955f74level0_row5\" class=\"row_heading level0 row5\" >5</th>\n",
       "                        <td id=\"T_9403f1d3_6d49_11ed_a788_5cbaef955f74row5_col0\" class=\"data row5 col0\" >new-price</td>\n",
       "                        <td id=\"T_9403f1d3_6d49_11ed_a788_5cbaef955f74row5_col1\" class=\"data row5 col1\" >object</td>\n",
       "                        <td id=\"T_9403f1d3_6d49_11ed_a788_5cbaef955f74row5_col2\" class=\"data row5 col2\" >10460</td>\n",
       "                        <td id=\"T_9403f1d3_6d49_11ed_a788_5cbaef955f74row5_col3\" class=\"data row5 col3\" >0.522321</td>\n",
       "            </tr>\n",
       "            <tr>\n",
       "                        <th id=\"T_9403f1d3_6d49_11ed_a788_5cbaef955f74level0_row6\" class=\"row_heading level0 row6\" >6</th>\n",
       "                        <td id=\"T_9403f1d3_6d49_11ed_a788_5cbaef955f74row6_col0\" class=\"data row6 col0\" >year</td>\n",
       "                        <td id=\"T_9403f1d3_6d49_11ed_a788_5cbaef955f74row6_col1\" class=\"data row6 col1\" >float64</td>\n",
       "                        <td id=\"T_9403f1d3_6d49_11ed_a788_5cbaef955f74row6_col2\" class=\"data row6 col2\" >46</td>\n",
       "                        <td id=\"T_9403f1d3_6d49_11ed_a788_5cbaef955f74row6_col3\" class=\"data row6 col3\" >0.002297</td>\n",
       "            </tr>\n",
       "            <tr>\n",
       "                        <th id=\"T_9403f1d3_6d49_11ed_a788_5cbaef955f74level0_row7\" class=\"row_heading level0 row7\" >7</th>\n",
       "                        <td id=\"T_9403f1d3_6d49_11ed_a788_5cbaef955f74row7_col0\" class=\"data row7 col0\" >seller_type</td>\n",
       "                        <td id=\"T_9403f1d3_6d49_11ed_a788_5cbaef955f74row7_col1\" class=\"data row7 col1\" >object</td>\n",
       "                        <td id=\"T_9403f1d3_6d49_11ed_a788_5cbaef955f74row7_col2\" class=\"data row7 col2\" >46</td>\n",
       "                        <td id=\"T_9403f1d3_6d49_11ed_a788_5cbaef955f74row7_col3\" class=\"data row7 col3\" >0.002297</td>\n",
       "            </tr>\n",
       "            <tr>\n",
       "                        <th id=\"T_9403f1d3_6d49_11ed_a788_5cbaef955f74level0_row8\" class=\"row_heading level0 row8\" >8</th>\n",
       "                        <td id=\"T_9403f1d3_6d49_11ed_a788_5cbaef955f74row8_col0\" class=\"data row8 col0\" >km_driven</td>\n",
       "                        <td id=\"T_9403f1d3_6d49_11ed_a788_5cbaef955f74row8_col1\" class=\"data row8 col1\" >object</td>\n",
       "                        <td id=\"T_9403f1d3_6d49_11ed_a788_5cbaef955f74row8_col2\" class=\"data row8 col2\" >46</td>\n",
       "                        <td id=\"T_9403f1d3_6d49_11ed_a788_5cbaef955f74row8_col3\" class=\"data row8 col3\" >0.002297</td>\n",
       "            </tr>\n",
       "            <tr>\n",
       "                        <th id=\"T_9403f1d3_6d49_11ed_a788_5cbaef955f74level0_row9\" class=\"row_heading level0 row9\" >9</th>\n",
       "                        <td id=\"T_9403f1d3_6d49_11ed_a788_5cbaef955f74row9_col0\" class=\"data row9 col0\" >owner_type</td>\n",
       "                        <td id=\"T_9403f1d3_6d49_11ed_a788_5cbaef955f74row9_col1\" class=\"data row9 col1\" >object</td>\n",
       "                        <td id=\"T_9403f1d3_6d49_11ed_a788_5cbaef955f74row9_col2\" class=\"data row9 col2\" >46</td>\n",
       "                        <td id=\"T_9403f1d3_6d49_11ed_a788_5cbaef955f74row9_col3\" class=\"data row9 col3\" >0.002297</td>\n",
       "            </tr>\n",
       "            <tr>\n",
       "                        <th id=\"T_9403f1d3_6d49_11ed_a788_5cbaef955f74level0_row10\" class=\"row_heading level0 row10\" >10</th>\n",
       "                        <td id=\"T_9403f1d3_6d49_11ed_a788_5cbaef955f74row10_col0\" class=\"data row10 col0\" >fuel_type</td>\n",
       "                        <td id=\"T_9403f1d3_6d49_11ed_a788_5cbaef955f74row10_col1\" class=\"data row10 col1\" >object</td>\n",
       "                        <td id=\"T_9403f1d3_6d49_11ed_a788_5cbaef955f74row10_col2\" class=\"data row10 col2\" >46</td>\n",
       "                        <td id=\"T_9403f1d3_6d49_11ed_a788_5cbaef955f74row10_col3\" class=\"data row10 col3\" >0.002297</td>\n",
       "            </tr>\n",
       "            <tr>\n",
       "                        <th id=\"T_9403f1d3_6d49_11ed_a788_5cbaef955f74level0_row11\" class=\"row_heading level0 row11\" >11</th>\n",
       "                        <td id=\"T_9403f1d3_6d49_11ed_a788_5cbaef955f74row11_col0\" class=\"data row11 col0\" >transmission_type</td>\n",
       "                        <td id=\"T_9403f1d3_6d49_11ed_a788_5cbaef955f74row11_col1\" class=\"data row11 col1\" >object</td>\n",
       "                        <td id=\"T_9403f1d3_6d49_11ed_a788_5cbaef955f74row11_col2\" class=\"data row11 col2\" >46</td>\n",
       "                        <td id=\"T_9403f1d3_6d49_11ed_a788_5cbaef955f74row11_col3\" class=\"data row11 col3\" >0.002297</td>\n",
       "            </tr>\n",
       "            <tr>\n",
       "                        <th id=\"T_9403f1d3_6d49_11ed_a788_5cbaef955f74level0_row12\" class=\"row_heading level0 row12\" >12</th>\n",
       "                        <td id=\"T_9403f1d3_6d49_11ed_a788_5cbaef955f74row12_col0\" class=\"data row12 col0\" >mileage</td>\n",
       "                        <td id=\"T_9403f1d3_6d49_11ed_a788_5cbaef955f74row12_col1\" class=\"data row12 col1\" >object</td>\n",
       "                        <td id=\"T_9403f1d3_6d49_11ed_a788_5cbaef955f74row12_col2\" class=\"data row12 col2\" >46</td>\n",
       "                        <td id=\"T_9403f1d3_6d49_11ed_a788_5cbaef955f74row12_col3\" class=\"data row12 col3\" >0.002297</td>\n",
       "            </tr>\n",
       "            <tr>\n",
       "                        <th id=\"T_9403f1d3_6d49_11ed_a788_5cbaef955f74level0_row13\" class=\"row_heading level0 row13\" >13</th>\n",
       "                        <td id=\"T_9403f1d3_6d49_11ed_a788_5cbaef955f74row13_col0\" class=\"data row13 col0\" >engine</td>\n",
       "                        <td id=\"T_9403f1d3_6d49_11ed_a788_5cbaef955f74row13_col1\" class=\"data row13 col1\" >object</td>\n",
       "                        <td id=\"T_9403f1d3_6d49_11ed_a788_5cbaef955f74row13_col2\" class=\"data row13 col2\" >105</td>\n",
       "                        <td id=\"T_9403f1d3_6d49_11ed_a788_5cbaef955f74row13_col3\" class=\"data row13 col3\" >0.005243</td>\n",
       "            </tr>\n",
       "            <tr>\n",
       "                        <th id=\"T_9403f1d3_6d49_11ed_a788_5cbaef955f74level0_row14\" class=\"row_heading level0 row14\" >14</th>\n",
       "                        <td id=\"T_9403f1d3_6d49_11ed_a788_5cbaef955f74row14_col0\" class=\"data row14 col0\" >max_power</td>\n",
       "                        <td id=\"T_9403f1d3_6d49_11ed_a788_5cbaef955f74row14_col1\" class=\"data row14 col1\" >object</td>\n",
       "                        <td id=\"T_9403f1d3_6d49_11ed_a788_5cbaef955f74row14_col2\" class=\"data row14 col2\" >105</td>\n",
       "                        <td id=\"T_9403f1d3_6d49_11ed_a788_5cbaef955f74row14_col3\" class=\"data row14 col3\" >0.005243</td>\n",
       "            </tr>\n",
       "            <tr>\n",
       "                        <th id=\"T_9403f1d3_6d49_11ed_a788_5cbaef955f74level0_row15\" class=\"row_heading level0 row15\" >15</th>\n",
       "                        <td id=\"T_9403f1d3_6d49_11ed_a788_5cbaef955f74row15_col0\" class=\"data row15 col0\" >seats</td>\n",
       "                        <td id=\"T_9403f1d3_6d49_11ed_a788_5cbaef955f74row15_col1\" class=\"data row15 col1\" >object</td>\n",
       "                        <td id=\"T_9403f1d3_6d49_11ed_a788_5cbaef955f74row15_col2\" class=\"data row15 col2\" >173</td>\n",
       "                        <td id=\"T_9403f1d3_6d49_11ed_a788_5cbaef955f74row15_col3\" class=\"data row15 col3\" >0.008639</td>\n",
       "            </tr>\n",
       "    </tbody></table>"
      ],
      "text/plain": [
       "<pandas.io.formats.style.Styler at 0x21b9bf40df0>"
      ]
     },
     "execution_count": 4,
     "metadata": {},
     "output_type": "execute_result"
    }
   ],
   "source": [
    "def null_count():\n",
    "    return pd.DataFrame({'features': data.columns,\n",
    "                'dtypes': data.dtypes.values,\n",
    "                'NaN count': data.isnull().sum().values,\n",
    "                'NaN percentage': data.isnull().sum().values/data.shape[0]}).style.background_gradient(cmap='Blues',low=0.1,high=0.01)\n",
    "null_count()"
   ]
  },
  {
   "cell_type": "markdown",
   "metadata": {},
   "source": [
    "<h3 style=\"font-family:serif\"><b>Cleaning selling price column</b></h3>\n",
    "<p>selling price has different values such as \"5.5 Lakh*\", \"2.3 Cr*\" and \"95,000*\" which is of data type object, gettting only the numerical value and multipling by suffix value lakhs, cr... eg(5.5 Lakh*: 500000, 2.3Cr*: 23000000, 95,000*: 95000) </p>"
   ]
  },
  {
   "cell_type": "code",
   "execution_count": 5,
   "metadata": {
    "_kg_hide-output": true,
    "execution": {
     "iopub.execute_input": "2022-11-26T04:51:35.752267Z",
     "iopub.status.busy": "2022-11-26T04:51:35.752032Z",
     "iopub.status.idle": "2022-11-26T04:51:43.764112Z",
     "shell.execute_reply": "2022-11-26T04:51:43.763055Z",
     "shell.execute_reply.started": "2022-11-26T04:51:35.752239Z"
    }
   },
   "outputs": [
    {
     "ename": "TypeError",
     "evalue": "'float' object is not subscriptable",
     "output_type": "error",
     "traceback": [
      "\u001b[1;31m---------------------------------------------------------------------------\u001b[0m",
      "\u001b[1;31mAttributeError\u001b[0m                            Traceback (most recent call last)",
      "\u001b[1;32m<ipython-input-5-9213b294f096>\u001b[0m in \u001b[0;36m<module>\u001b[1;34m\u001b[0m\n\u001b[0;32m      2\u001b[0m     \u001b[1;32mtry\u001b[0m\u001b[1;33m:\u001b[0m\u001b[1;33m\u001b[0m\u001b[1;33m\u001b[0m\u001b[0m\n\u001b[1;32m----> 3\u001b[1;33m         \u001b[0mprice\u001b[0m \u001b[1;33m=\u001b[0m \u001b[0mfloat\u001b[0m\u001b[1;33m(\u001b[0m\u001b[0mdata\u001b[0m\u001b[1;33m[\u001b[0m\u001b[1;34m'selling_price'\u001b[0m\u001b[1;33m]\u001b[0m\u001b[1;33m[\u001b[0m\u001b[0mi\u001b[0m\u001b[1;33m]\u001b[0m\u001b[1;33m.\u001b[0m\u001b[0msplit\u001b[0m\u001b[1;33m(\u001b[0m\u001b[1;34m' '\u001b[0m\u001b[1;33m)\u001b[0m\u001b[1;33m[\u001b[0m\u001b[1;36m0\u001b[0m\u001b[1;33m]\u001b[0m\u001b[1;33m)\u001b[0m\u001b[1;33m\u001b[0m\u001b[1;33m\u001b[0m\u001b[0m\n\u001b[0m\u001b[0;32m      4\u001b[0m         \u001b[0mdigit\u001b[0m \u001b[1;33m=\u001b[0m \u001b[0mdata\u001b[0m\u001b[1;33m[\u001b[0m\u001b[1;34m'selling_price'\u001b[0m\u001b[1;33m]\u001b[0m\u001b[1;33m[\u001b[0m\u001b[0mi\u001b[0m\u001b[1;33m]\u001b[0m\u001b[1;33m.\u001b[0m\u001b[0msplit\u001b[0m\u001b[1;33m(\u001b[0m\u001b[1;34m' '\u001b[0m\u001b[1;33m)\u001b[0m\u001b[1;33m[\u001b[0m\u001b[1;36m1\u001b[0m\u001b[1;33m]\u001b[0m\u001b[1;33m\u001b[0m\u001b[1;33m\u001b[0m\u001b[0m\n",
      "\u001b[1;31mAttributeError\u001b[0m: 'float' object has no attribute 'split'",
      "\nDuring handling of the above exception, another exception occurred:\n",
      "\u001b[1;31mTypeError\u001b[0m                                 Traceback (most recent call last)",
      "\u001b[1;32m<ipython-input-5-9213b294f096>\u001b[0m in \u001b[0;36m<module>\u001b[1;34m\u001b[0m\n\u001b[0;32m     10\u001b[0m             \u001b[0mdata\u001b[0m\u001b[1;33m[\u001b[0m\u001b[1;34m'selling_price'\u001b[0m\u001b[1;33m]\u001b[0m\u001b[1;33m[\u001b[0m\u001b[0mi\u001b[0m\u001b[1;33m]\u001b[0m \u001b[1;33m=\u001b[0m \u001b[0mprice\u001b[0m\u001b[1;33m\u001b[0m\u001b[1;33m\u001b[0m\u001b[0m\n\u001b[0;32m     11\u001b[0m     \u001b[1;32mexcept\u001b[0m\u001b[1;33m:\u001b[0m\u001b[1;33m\u001b[0m\u001b[1;33m\u001b[0m\u001b[0m\n\u001b[1;32m---> 12\u001b[1;33m         \u001b[0mprice\u001b[0m \u001b[1;33m=\u001b[0m \u001b[0mdata\u001b[0m\u001b[1;33m[\u001b[0m\u001b[1;34m'selling_price'\u001b[0m\u001b[1;33m]\u001b[0m\u001b[1;33m[\u001b[0m\u001b[0mi\u001b[0m\u001b[1;33m]\u001b[0m\u001b[1;33m[\u001b[0m\u001b[1;33m:\u001b[0m\u001b[1;33m-\u001b[0m\u001b[1;36m1\u001b[0m\u001b[1;33m]\u001b[0m\u001b[1;33m\u001b[0m\u001b[1;33m\u001b[0m\u001b[0m\n\u001b[0m\u001b[0;32m     13\u001b[0m         \u001b[0mprice\u001b[0m \u001b[1;33m=\u001b[0m \u001b[0mprice\u001b[0m\u001b[1;33m.\u001b[0m\u001b[0mreplace\u001b[0m\u001b[1;33m(\u001b[0m\u001b[1;34m','\u001b[0m\u001b[1;33m,\u001b[0m \u001b[1;34m''\u001b[0m\u001b[1;33m)\u001b[0m\u001b[1;33m\u001b[0m\u001b[1;33m\u001b[0m\u001b[0m\n\u001b[0;32m     14\u001b[0m         \u001b[0mdata\u001b[0m\u001b[1;33m[\u001b[0m\u001b[1;34m'selling_price'\u001b[0m\u001b[1;33m]\u001b[0m\u001b[1;33m[\u001b[0m\u001b[0mi\u001b[0m\u001b[1;33m]\u001b[0m \u001b[1;33m=\u001b[0m \u001b[0mfloat\u001b[0m\u001b[1;33m(\u001b[0m\u001b[0mprice\u001b[0m\u001b[1;33m)\u001b[0m\u001b[1;33m\u001b[0m\u001b[1;33m\u001b[0m\u001b[0m\n",
      "\u001b[1;31mTypeError\u001b[0m: 'float' object is not subscriptable"
     ]
    }
   ],
   "source": [
    "for i in range(data.shape[0]):\n",
    "    try:\n",
    "        price = float(data['selling_price'][i].split(' ')[0])\n",
    "        digit = data['selling_price'][i].split(' ')[1]\n",
    "        if digit == 'Lakh*':\n",
    "            price = price * 100000\n",
    "            data['selling_price'][i] = price\n",
    "        elif digit == 'Cr*':\n",
    "            price = price * 10000000\n",
    "            data['selling_price'][i] = price\n",
    "    except:\n",
    "        price = data['selling_price'][i][:-1]\n",
    "        price = price.replace(',', '')\n",
    "        data['selling_price'][i] = float(price)"
   ]
  },
  {
   "cell_type": "markdown",
   "metadata": {},
   "source": [
    "<h3 style=\"font-family:serif\"><b>Cleaning kilometer driven, Mileage, Engine, Maxpower and Seats columns</b></h3>\n",
    "<p> km_driven, mileage, engine, max_power and seats have values like \"120,000 kms\", \"Mileage19.7 kmpl\", \"Engine796CC\", \"Max Power46.3 bhp\" and \"seats5\", getting only the numerical values from those strings. eg (km_driven: 120000, mileage: 19.7, engine:796, max_power: 46.3, seats: 5)</p>"
   ]
  },
  {
   "cell_type": "code",
   "execution_count": null,
   "metadata": {
    "execution": {
     "iopub.execute_input": "2022-11-26T04:51:43.766567Z",
     "iopub.status.busy": "2022-11-26T04:51:43.766312Z",
     "iopub.status.idle": "2022-11-26T04:51:44.154908Z",
     "shell.execute_reply": "2022-11-26T04:51:44.153903Z",
     "shell.execute_reply.started": "2022-11-26T04:51:43.766539Z"
    }
   },
   "outputs": [],
   "source": [
    "# kilometer driven\n",
    "data['km_driven'] = data['km_driven'].str.split(' ', n=1, expand=True)[0]\n",
    "data['km_driven'] = data['km_driven'].str.replace(',','')\n",
    "# Mileage\n",
    "data['mileage'] = data['mileage'].str.split(' ', expand=True)[0].str.split('e', expand=True)[2]\n",
    "# Engine\n",
    "data['engine'] = data['engine'].str.split(' ', expand=True)[0].str.split('e',expand=True)[1]\n",
    "# Max Power\n",
    "data['max_power'] = data['max_power'].str.split(' ', expand=True)[1].str.split('r',expand=True)[1]\n",
    "# Seats \n",
    "data['seats'] = data['seats'].str.split('s', expand=True)[1]"
   ]
  },
  {
   "cell_type": "markdown",
   "metadata": {},
   "source": [
    "<h3 style=\"font-family:serif\"><b>Changing the data types of the columns</b></h3>\n",
    "<p>changing the data types of the feaures such as selling_price, km_driven, mileage, engine, max_power, seats to int/float</p>"
   ]
  },
  {
   "cell_type": "code",
   "execution_count": null,
   "metadata": {
    "execution": {
     "iopub.execute_input": "2022-11-26T04:51:44.157402Z",
     "iopub.status.busy": "2022-11-26T04:51:44.156239Z",
     "iopub.status.idle": "2022-11-26T04:51:44.196922Z",
     "shell.execute_reply": "2022-11-26T04:51:44.195878Z",
     "shell.execute_reply.started": "2022-11-26T04:51:44.157353Z"
    }
   },
   "outputs": [],
   "source": [
    "cols = ['selling_price', 'km_driven', 'mileage', 'engine', 'max_power', 'seats']\n",
    "\n",
    "for col in cols:\n",
    "    try:\n",
    "        data[col] = data[col].astype(int)\n",
    "    except:\n",
    "        data[col] = data[col].astype(float)"
   ]
  },
  {
   "cell_type": "markdown",
   "metadata": {},
   "source": [
    "<h3 style=\"font-family:serif\"><b>Creating new feature Company</b></h3>\n",
    "<p> creating a new feature \"company\" from full_name by getting the first word which is actually the cars company name, \"Ford Ecosport 2015-2021 1.5 TDCi Titanium BSIV\" this car model belongs to Ford company</p>"
   ]
  },
  {
   "cell_type": "code",
   "execution_count": null,
   "metadata": {
    "execution": {
     "iopub.execute_input": "2022-11-26T04:51:44.198734Z",
     "iopub.status.busy": "2022-11-26T04:51:44.198476Z",
     "iopub.status.idle": "2022-11-26T04:51:44.367769Z",
     "shell.execute_reply": "2022-11-26T04:51:44.366805Z",
     "shell.execute_reply.started": "2022-11-26T04:51:44.198684Z"
    }
   },
   "outputs": [],
   "source": [
    "# creating new feature company instead of full name\n",
    "data['company'] = data['full_name'].str.split(' ', expand=True)[0]"
   ]
  },
  {
   "cell_type": "markdown",
   "metadata": {},
   "source": [
    "<h3 style=\"font-family:serif\"><b>Droping unwanted columns</b></h3>\n",
    "<p>Droping \"new_price\" column which has more the 50 percent missing values, \"full_name\" because I created company column for better analysis and \"owner_type\" for having only one value which doesn't provide any information.</p>\n"
   ]
  },
  {
   "cell_type": "code",
   "execution_count": null,
   "metadata": {
    "execution": {
     "iopub.execute_input": "2022-11-26T04:51:44.370589Z",
     "iopub.status.busy": "2022-11-26T04:51:44.370347Z",
     "iopub.status.idle": "2022-11-26T04:51:44.399211Z",
     "shell.execute_reply": "2022-11-26T04:51:44.398136Z",
     "shell.execute_reply.started": "2022-11-26T04:51:44.370560Z"
    }
   },
   "outputs": [],
   "source": [
    "data.drop(columns=['new_price','full_name','owner_type'], axis=1, inplace=True)\n",
    "data.head()"
   ]
  },
  {
   "cell_type": "markdown",
   "metadata": {},
   "source": [
    "<h3 style=\"font-family:serif\"><b>Basic statistic on numerical features</b></h3>"
   ]
  },
  {
   "cell_type": "code",
   "execution_count": null,
   "metadata": {
    "execution": {
     "iopub.execute_input": "2022-11-26T04:51:44.400807Z",
     "iopub.status.busy": "2022-11-26T04:51:44.400476Z",
     "iopub.status.idle": "2022-11-26T04:51:44.444825Z",
     "shell.execute_reply": "2022-11-26T04:51:44.443724Z",
     "shell.execute_reply.started": "2022-11-26T04:51:44.400762Z"
    }
   },
   "outputs": [],
   "source": [
    "data.describe().T"
   ]
  },
  {
   "cell_type": "markdown",
   "metadata": {},
   "source": [
    "<h3 style=\"font-family:serif\"><b>Basic statistics on categorical features</b></h3>"
   ]
  },
  {
   "cell_type": "code",
   "execution_count": null,
   "metadata": {
    "execution": {
     "iopub.execute_input": "2022-11-26T04:51:44.446269Z",
     "iopub.status.busy": "2022-11-26T04:51:44.445987Z",
     "iopub.status.idle": "2022-11-26T04:51:44.481486Z",
     "shell.execute_reply": "2022-11-26T04:51:44.480493Z",
     "shell.execute_reply.started": "2022-11-26T04:51:44.446237Z"
    }
   },
   "outputs": [],
   "source": [
    "data.describe(include='O')"
   ]
  },
  {
   "cell_type": "code",
   "execution_count": null,
   "metadata": {
    "_kg_hide-input": true,
    "execution": {
     "iopub.execute_input": "2022-11-26T04:51:44.483754Z",
     "iopub.status.busy": "2022-11-26T04:51:44.483419Z",
     "iopub.status.idle": "2022-11-26T04:51:44.910877Z",
     "shell.execute_reply": "2022-11-26T04:51:44.910172Z",
     "shell.execute_reply.started": "2022-11-26T04:51:44.483699Z"
    }
   },
   "outputs": [],
   "source": [
    "x = data.nunique().sort_values(ascending=False).index\n",
    "y = data.nunique().sort_values(ascending=False).values\n",
    "\n",
    "plt.rcParams['figure.dpi'] = 200\n",
    "fig = plt.figure(figsize=(7,3))\n",
    "gs = fig.add_gridspec(1,1)\n",
    "ax0 = fig.add_subplot(gs[0,0])\n",
    "for i in ['top', 'right']:\n",
    "    ax0.spines[i].set_visible(False)\n",
    "    \n",
    "colormap = ['#79c6e8' for i in range(data.shape[1])]\n",
    "colormap[0] = '#9c9a9a'\n",
    "\n",
    "ax0.bar(x=x, height=y, edgecolor='k', linewidth=0.7, color=colormap, alpha=0.9)\n",
    "ax0.tick_params(axis='x',labelsize=5, rotation=90, width=1)\n",
    "ax0.tick_params(axis='y', labelsize=5, left=False)\n",
    "fig.suptitle(t='Number of unique values in each features', fontsize=6, weight='bold')\n",
    "\n",
    "for p in ax0.patches:\n",
    "    value = f'{p.get_height():,.0f}'\n",
    "    x = p.get_x() + p.get_width() / 2\n",
    "    y = p.get_y() + p.get_height()+290\n",
    "    ax0.text(x, y, value, ha='center', va='center', fontsize=5, \n",
    "            bbox=dict(facecolor='white', edgecolor='black', boxstyle='round', linewidth=0.3))\n",
    "plt.show()\n"
   ]
  },
  {
   "cell_type": "code",
   "execution_count": null,
   "metadata": {
    "_kg_hide-input": true,
    "execution": {
     "iopub.execute_input": "2022-11-26T04:51:48.490259Z",
     "iopub.status.busy": "2022-11-26T04:51:48.489968Z",
     "iopub.status.idle": "2022-11-26T04:51:48.882007Z",
     "shell.execute_reply": "2022-11-26T04:51:48.881179Z",
     "shell.execute_reply.started": "2022-11-26T04:51:48.490223Z"
    }
   },
   "outputs": [],
   "source": [
    "fig = plt.figure(figsize=(7,3))\n",
    "gs = fig.add_gridspec(1,1)\n",
    "\n",
    "cars = data.company.value_counts().head(10)\n",
    "pal = sns.light_palette('#79c6e8', n_colors=50, reverse=True)\n",
    "pal[0] = '#9c9a9a'\n",
    "ax = fig.add_subplot(gs[0,0])\n",
    "ax=sns.barplot(x=cars.index, y=cars.values, edgecolor='k', linewidth=0.7, palette=pal)\n",
    "ax.tick_params(axis='x', labelsize=5, rotation=90)\n",
    "ax.tick_params(axis='y', labelsize=5, left=False)\n",
    "ax.set_ylabel(ylabel='count', fontsize=5, weight='bold')\n",
    "\n",
    "for p in ax.patches:\n",
    "    value = f'{p.get_height():,.0f}'\n",
    "    x = p.get_x() + p.get_width()/2\n",
    "    y = p.get_y() + p.get_height()+320\n",
    "    ax.text(x=x, y=y, s=value, fontsize=4.5, ha='center', va='center',\n",
    "           bbox=dict(fc='white', edgecolor='k', boxstyle='round', linewidth=0.5))\n",
    "    \n",
    "fig.suptitle(t='Top 10 most present company names in the dataset', fontsize='6', weight='bold')\n",
    "sns.despine()\n",
    "plt.show()"
   ]
  },
  {
   "cell_type": "code",
   "execution_count": null,
   "metadata": {
    "_kg_hide-input": true,
    "execution": {
     "iopub.execute_input": "2022-11-26T04:51:48.883670Z",
     "iopub.status.busy": "2022-11-26T04:51:48.883407Z",
     "iopub.status.idle": "2022-11-26T04:51:49.325317Z",
     "shell.execute_reply": "2022-11-26T04:51:49.324125Z",
     "shell.execute_reply.started": "2022-11-26T04:51:48.883638Z"
    }
   },
   "outputs": [],
   "source": [
    "fig = plt.figure(figsize=(7,3))\n",
    "gs = fig.add_gridspec(1,1)\n",
    "\n",
    "cars = data.company.value_counts().tail(15)\n",
    "pal = sns.light_palette('#79c6e8', n_colors=50, reverse=True)\n",
    "pal[0] = '#9c9a9a'\n",
    "ax = fig.add_subplot(gs[0,0])\n",
    "ax=sns.barplot(x=cars.index, y=cars.values, edgecolor='k', linewidth=0.7, palette=pal)\n",
    "ax.tick_params(axis='x', labelsize=5, rotation=90)\n",
    "ax.tick_params(axis='y', labelsize=5, left=False)\n",
    "ax.set_ylabel(ylabel='count', fontsize=5, weight='bold')\n",
    "\n",
    "for p in ax.patches:\n",
    "    value = f'{p.get_height():,.0f}'\n",
    "    x = p.get_x() + p.get_width()/2\n",
    "    y = p.get_y() + p.get_height()+0.5\n",
    "    ax.text(x=x, y=y, s=value, fontsize=4.5, ha='center', va='center',\n",
    "           bbox=dict(fc='white', edgecolor='k', boxstyle='round', linewidth=0.5))\n",
    "    \n",
    "fig.suptitle(t='Top 10 most least company names in the dataset', fontsize='6', weight='bold')\n",
    "sns.despine()\n",
    "plt.show()"
   ]
  },
  {
   "cell_type": "code",
   "execution_count": null,
   "metadata": {
    "_kg_hide-input": true,
    "execution": {
     "iopub.execute_input": "2022-11-26T04:51:49.327368Z",
     "iopub.status.busy": "2022-11-26T04:51:49.327035Z",
     "iopub.status.idle": "2022-11-26T04:51:49.699225Z",
     "shell.execute_reply": "2022-11-26T04:51:49.698323Z",
     "shell.execute_reply.started": "2022-11-26T04:51:49.327335Z"
    }
   },
   "outputs": [],
   "source": [
    "fig = plt.figure(figsize=(7,3))\n",
    "gs = fig.add_gridspec(1,1)\n",
    "\n",
    "cars = data.year.value_counts().head(10)\n",
    "pal = sns.light_palette('#79c6e8', n_colors=50, reverse=True)\n",
    "pal[7] = '#9c9a9a'\n",
    "ax = fig.add_subplot(gs[0,0])\n",
    "ax=sns.barplot(x=cars.index, y=cars.values, edgecolor='k', linewidth=0.7, palette=pal)\n",
    "ax.tick_params(axis='x', labelsize=5, rotation=90)\n",
    "ax.tick_params(axis='y', labelsize=5, left=False)\n",
    "ax.set_ylabel(ylabel='count', fontsize=5, weight='bold')\n",
    "\n",
    "for p in ax.patches:\n",
    "    value = f'{p.get_height():,.0f}'\n",
    "    x = p.get_x() + p.get_width()/2\n",
    "    y = p.get_y() + p.get_height()+150\n",
    "    ax.text(x=x, y=y, s=value, fontsize=4.5, ha='center', va='center',\n",
    "           bbox=dict(fc='white', edgecolor='k', boxstyle='round', linewidth=0.5))\n",
    "    \n",
    "fig.suptitle(t='Top 10 years with highest sales', fontsize='6', weight='bold')\n",
    "sns.despine()\n",
    "plt.show()"
   ]
  },
  {
   "cell_type": "markdown",
   "metadata": {},
   "source": [
    "<h3 style=\"font-family:serif\"><b>Bivariate Analysis </b></h3>"
   ]
  },
  {
   "cell_type": "code",
   "execution_count": null,
   "metadata": {
    "_kg_hide-input": true,
    "execution": {
     "iopub.execute_input": "2022-11-26T04:51:49.701528Z",
     "iopub.status.busy": "2022-11-26T04:51:49.700876Z",
     "iopub.status.idle": "2022-11-26T04:51:50.242066Z",
     "shell.execute_reply": "2022-11-26T04:51:50.240993Z",
     "shell.execute_reply.started": "2022-11-26T04:51:49.701480Z"
    }
   },
   "outputs": [],
   "source": [
    "fig = plt.figure(figsize=(7,3))\n",
    "gs = fig.add_gridspec(1,1)\n",
    "\n",
    "pal = sns.light_palette('#79c6e8', reverse=True, n_colors=50)\n",
    "pal.insert(0,'#9c9a9a')\n",
    "\n",
    "cars = data.groupby('company')['selling_price'].mean().sort_values(ascending=False).head(10)/1000000\n",
    "ax = fig.add_subplot(gs[0,0])\n",
    "ax=sns.barplot(x=cars.index, y=cars.values, edgecolor='k', linewidth=0.7, palette=pal)\n",
    "ax.tick_params(axis='x', labelsize=5, rotation=90)\n",
    "ax.tick_params(axis='y', labelsize=5, left=False)\n",
    "ax.set_xlabel(xlabel=None)\n",
    "ax.set_ylabel(ylabel='price in millions', fontsize=5, weight='bold')\n",
    "for p in ax.patches:\n",
    "    value = f'{p.get_height():,.1f}' + ' M'\n",
    "    x = p.get_x() + p.get_width()/2\n",
    "    y = p.get_y() + p.get_height()+3\n",
    "    ax.text(x=x, y=y, s=value, fontsize=4.5, ha='center', va='center',\n",
    "           bbox=dict(fc='white', edgecolor='k', boxstyle='round', linewidth=0.5))\n",
    "    \n",
    "fig.suptitle(t='Top 10 car company with highest selling price', fontsize=6, weight='bold')\n",
    "sns.despine()\n",
    "plt.show()"
   ]
  },
  {
   "cell_type": "code",
   "execution_count": null,
   "metadata": {
    "_kg_hide-input": true,
    "execution": {
     "iopub.execute_input": "2022-11-26T04:51:55.407425Z",
     "iopub.status.busy": "2022-11-26T04:51:55.407100Z",
     "iopub.status.idle": "2022-11-26T04:51:56.589974Z",
     "shell.execute_reply": "2022-11-26T04:51:56.589090Z",
     "shell.execute_reply.started": "2022-11-26T04:51:55.407382Z"
    }
   },
   "outputs": [],
   "source": [
    "fig = plt.figure(figsize=(7,5))\n",
    "gs = fig.add_gridspec(2,1)\n",
    "color = ['#79c6e8' for i in range(data.shape[0])]\n",
    "color[4967] = color[19972] = color[14257] = color[475] = '#9c9a9a'\n",
    "ax=fig.add_subplot(gs[0,0])\n",
    "ax.scatter(x=data.km_driven/1000000,y=data.selling_price/1000000,s=28,\n",
    "                       color=color, edgecolor='white', linewidth=0.4)\n",
    "ax.tick_params(labelsize=5, left=False)\n",
    "ax.set_ylabel(ylabel='selling price in millions', fontsize=5, weight='bold')\n",
    "\n",
    "ax1=fig.add_subplot(gs[1,0])\n",
    "rmd_data = data[data['selling_price']<20000000]\n",
    "rmd_data = rmd_data[rmd_data['km_driven']<2000000]\n",
    "ax1.scatter(x=rmd_data.km_driven/1000000,y=rmd_data.selling_price/1000000,\n",
    "            s=28, color='#79c6e8', edgecolor='white', linewidth=0.4)\n",
    "ax1.tick_params(labelsize=5, left=False)\n",
    "ax1.set_xlabel(xlabel='kilometer driven in millions', fontsize=5, weight='bold')\n",
    "ax1.set_ylabel(ylabel='selling price in millions', fontsize=5, weight='bold')\n",
    "ax1.text(x=1, y=12, s='After removing outliers', fontsize=6, weight='bold', alpha=0.6,\n",
    "        bbox=dict(facecolor='white', lw=0.5, alpha=0.3))\n",
    "sns.despine()\n",
    "plt.show()"
   ]
  },
  {
   "cell_type": "code",
   "execution_count": null,
   "metadata": {
    "_kg_hide-input": true,
    "execution": {
     "iopub.execute_input": "2022-11-26T04:51:56.591711Z",
     "iopub.status.busy": "2022-11-26T04:51:56.591449Z",
     "iopub.status.idle": "2022-11-26T04:51:57.751968Z",
     "shell.execute_reply": "2022-11-26T04:51:57.751355Z",
     "shell.execute_reply.started": "2022-11-26T04:51:56.591678Z"
    }
   },
   "outputs": [],
   "source": [
    "fig = plt.figure(figsize=(7,5))\n",
    "gs = fig.add_gridspec(2,1)\n",
    "color = ['#79c6e8' for i in range(data.shape[0])]\n",
    "color[4967] = color[14257] = color[475] = color[11964] = color[18396]= '#9c9a9a'\n",
    "ax=fig.add_subplot(gs[0,0])\n",
    "ax.scatter(x=data.mileage,y=data.selling_price/1000000,s=28,\n",
    "                       color=color, edgecolor='white', linewidth=0.4)\n",
    "ax.tick_params(labelsize=5, left=False)\n",
    "ax.set_ylabel(ylabel='selling price in millions', fontsize=5, weight='bold')\n",
    "\n",
    "ax1=fig.add_subplot(gs[1,0])\n",
    "rmd_data = data[data['selling_price']<20000000]\n",
    "rmd_data = rmd_data[rmd_data['mileage']<100]\n",
    "ax1.scatter(x=rmd_data.mileage,y=rmd_data.selling_price/1000000,s=28,\n",
    "                       color='#79c6e8', edgecolor='white', linewidth=0.4)\n",
    "ax1.tick_params(labelsize=5, left=False)\n",
    "ax1.set_xlabel(xlabel='mileage in kmpl', fontsize=5, weight='bold')\n",
    "ax1.set_ylabel(ylabel='selling price in millions', fontsize=5, weight='bold')\n",
    "ax1.text(x=25, y=12, s='After removing outliers', fontsize=6, weight='bold', alpha=0.6,\n",
    "        bbox=dict(facecolor='white', lw=0.5, alpha=0.3))\n",
    "sns.despine()\n",
    "plt.show()"
   ]
  },
  {
   "cell_type": "code",
   "execution_count": null,
   "metadata": {
    "_kg_hide-input": true,
    "execution": {
     "iopub.execute_input": "2022-11-26T04:51:59.086348Z",
     "iopub.status.busy": "2022-11-26T04:51:59.085984Z",
     "iopub.status.idle": "2022-11-26T04:52:00.274649Z",
     "shell.execute_reply": "2022-11-26T04:52:00.273758Z",
     "shell.execute_reply.started": "2022-11-26T04:51:59.086305Z"
    }
   },
   "outputs": [],
   "source": [
    "fig = plt.figure(figsize=(7,5))\n",
    "gs = fig.add_gridspec(2,1)\n",
    "color = ['#79c6e8' for i in range(data.shape[0])]\n",
    "color[4967]=color[475]=color[14257]=color[1536]=color[17020]=color[16856]=color[13130]=color[3980]='#9c9a9a'\n",
    "ax=fig.add_subplot(gs[0,0])\n",
    "ax.scatter(x=data.max_power,y=data.selling_price/1000000,s=28,\n",
    "                       color=color, edgecolor='white', linewidth=0.4)\n",
    "ax.tick_params(labelsize=5, left=False)\n",
    "ax.set_ylabel(ylabel='selling price in millions', fontsize=5, weight='bold')\n",
    "\n",
    "ax1=fig.add_subplot(gs[1,0])\n",
    "rmd_data = data[data['selling_price']<20000000]\n",
    "rmd_data = rmd_data[rmd_data['max_power']<530]\n",
    "ax1.scatter(x=rmd_data.max_power,y=rmd_data.selling_price/1000000,s=28,\n",
    "                       color='#79c6e8', edgecolor='white', linewidth=0.4)\n",
    "ax1.tick_params(labelsize=5, left=False)\n",
    "ax1.set_xlabel(xlabel='max_power in bhp', fontsize=5, weight='bold')\n",
    "ax1.set_ylabel(ylabel='selling price in millions', fontsize=5, weight='bold')\n",
    "ax1.text(x=380, y=11, s='After removing outliers', fontsize=6, weight='bold', alpha=0.6,\n",
    "        bbox=dict(facecolor='white', lw=0.5, alpha=0.3))\n",
    "sns.despine()\n",
    "plt.show()"
   ]
  },
  {
   "cell_type": "code",
   "execution_count": null,
   "metadata": {
    "execution": {
     "iopub.execute_input": "2022-11-26T04:52:01.053335Z",
     "iopub.status.busy": "2022-11-26T04:52:01.052973Z",
     "iopub.status.idle": "2022-11-26T04:52:01.087684Z",
     "shell.execute_reply": "2022-11-26T04:52:01.086687Z",
     "shell.execute_reply.started": "2022-11-26T04:52:01.053288Z"
    }
   },
   "outputs": [],
   "source": [
    "for i in ['mileage', 'engine', 'max_power', 'seats']:\n",
    "    company_name = data[data[i].isnull()]['company'].value_counts().index[0]\n",
    "    if data[i].nunique()>10:\n",
    "        values = data[data['company']==company_name][i].mean()\n",
    "    else:\n",
    "        values = data[data['company']==company_name][i].median()\n",
    "        \n",
    "    data[i].fillna(values, inplace=True)"
   ]
  },
  {
   "cell_type": "markdown",
   "metadata": {},
   "source": [
    "<h3 style=\"font-family:serif\"><b> Removing outliers in the data </b></h3>"
   ]
  },
  {
   "cell_type": "code",
   "execution_count": null,
   "metadata": {
    "execution": {
     "iopub.execute_input": "2022-11-26T04:52:01.089801Z",
     "iopub.status.busy": "2022-11-26T04:52:01.089290Z",
     "iopub.status.idle": "2022-11-26T04:52:01.112340Z",
     "shell.execute_reply": "2022-11-26T04:52:01.111172Z",
     "shell.execute_reply.started": "2022-11-26T04:52:01.089761Z"
    }
   },
   "outputs": [],
   "source": [
    "data = data[data['selling_price'] < 20000000]\n",
    "data = data[data['km_driven'] < 1000000]\n",
    "data = data[data['mileage'] < 100]\n",
    "data = data[data['engine'] < 6100]\n",
    "data = data[data['max_power'] < 530]\n",
    "data = data.reset_index(drop=True)"
   ]
  },
  {
   "cell_type": "markdown",
   "metadata": {},
   "source": [
    "<h3 style=\"font-family:serif\"><b>Appling discretization on company</b></h3>"
   ]
  },
  {
   "cell_type": "code",
   "execution_count": null,
   "metadata": {
    "execution": {
     "iopub.execute_input": "2022-11-26T04:52:01.114054Z",
     "iopub.status.busy": "2022-11-26T04:52:01.113762Z",
     "iopub.status.idle": "2022-11-26T04:52:01.626524Z",
     "shell.execute_reply": "2022-11-26T04:52:01.625741Z",
     "shell.execute_reply.started": "2022-11-26T04:52:01.113995Z"
    }
   },
   "outputs": [],
   "source": [
    "company_name = data.company.value_counts().index[:15]\n",
    "for i in range(data.shape[0]):\n",
    "    if data['company'][i] in company_name:\n",
    "         continue\n",
    "    else:\n",
    "        data['company'][i] = 'others'"
   ]
  },
  {
   "cell_type": "markdown",
   "metadata": {},
   "source": [
    "<h3 style=\"font-family:serif\"><b>Encoding categorical features</b></h3>"
   ]
  },
  {
   "cell_type": "code",
   "execution_count": null,
   "metadata": {
    "execution": {
     "iopub.execute_input": "2022-11-26T04:52:01.628967Z",
     "iopub.status.busy": "2022-11-26T04:52:01.628168Z",
     "iopub.status.idle": "2022-11-26T04:52:01.652328Z",
     "shell.execute_reply": "2022-11-26T04:52:01.651513Z",
     "shell.execute_reply.started": "2022-11-26T04:52:01.628923Z"
    }
   },
   "outputs": [],
   "source": [
    "data = pd.get_dummies(data=data, columns=['seller_type','fuel_type','transmission_type','company'], drop_first=True)\n",
    "data.shape"
   ]
  },
  {
   "cell_type": "markdown",
   "metadata": {},
   "source": [
    "<h3 style=\"font-family:serif\"><b>Splitting the data into training and testing</b></h3>"
   ]
  },
  {
   "cell_type": "code",
   "execution_count": null,
   "metadata": {
    "execution": {
     "iopub.execute_input": "2022-11-26T04:52:02.392472Z",
     "iopub.status.busy": "2022-11-26T04:52:02.392187Z",
     "iopub.status.idle": "2022-11-26T04:52:02.405986Z",
     "shell.execute_reply": "2022-11-26T04:52:02.404848Z",
     "shell.execute_reply.started": "2022-11-26T04:52:02.392436Z"
    }
   },
   "outputs": [],
   "source": [
    "x = data.iloc[:,1:]\n",
    "y = data['selling_price']\n",
    "xtrain, xtest, ytrain, ytest = train_test_split(x,y,test_size=0.20,random_state=25)"
   ]
  },
  {
   "cell_type": "markdown",
   "metadata": {},
   "source": [
    "<h3 style=\"font-family:serif\"><b>Feature Scaling</b></h3>"
   ]
  },
  {
   "cell_type": "code",
   "execution_count": null,
   "metadata": {
    "execution": {
     "iopub.execute_input": "2022-11-26T04:52:02.408273Z",
     "iopub.status.busy": "2022-11-26T04:52:02.407658Z",
     "iopub.status.idle": "2022-11-26T04:52:02.432030Z",
     "shell.execute_reply": "2022-11-26T04:52:02.431053Z",
     "shell.execute_reply.started": "2022-11-26T04:52:02.408215Z"
    }
   },
   "outputs": [],
   "source": [
    "scaler = StandardScaler()\n",
    "xtrain = scaler.fit_transform(xtrain)\n",
    "xtest = scaler.transform(xtest)"
   ]
  },
  {
   "cell_type": "code",
   "execution_count": null,
   "metadata": {
    "execution": {
     "iopub.execute_input": "2022-11-26T04:52:02.433720Z",
     "iopub.status.busy": "2022-11-26T04:52:02.433463Z",
     "iopub.status.idle": "2022-11-26T04:52:02.440809Z",
     "shell.execute_reply": "2022-11-26T04:52:02.439701Z",
     "shell.execute_reply.started": "2022-11-26T04:52:02.433689Z"
    }
   },
   "outputs": [],
   "source": [
    "def do_prediction(classifier):\n",
    "    \n",
    "    # training the classifier on the dataset\n",
    "    classifier.fit(xtrain, ytrain)\n",
    "    \n",
    "    #Do prediction and evaluting the prediction\n",
    "    prediction = classifier.predict(xtest)\n",
    "    cross_validation_score = cross_val(xtrain, ytrain, classifier)\n",
    "    error = mean_absolute_error(ytest, prediction)\n",
    "    \n",
    "    return error, cross_validation_score\n",
    "\n",
    "def cross_val(xtrain, ytrain, classifier):\n",
    "    \n",
    "    # Applying k-Fold Cross Validation\n",
    "    accuracies = cross_val_score(estimator = classifier, X = xtrain, y = ytrain, cv = 5)\n",
    "    return accuracies.mean()"
   ]
  },
  {
   "cell_type": "markdown",
   "metadata": {},
   "source": [
    "<h3 style=\"font-family:serif\"><b>1. Linear Regression</b></h3>"
   ]
  },
  {
   "cell_type": "code",
   "execution_count": null,
   "metadata": {
    "execution": {
     "iopub.execute_input": "2022-11-26T04:52:02.442738Z",
     "iopub.status.busy": "2022-11-26T04:52:02.442456Z",
     "iopub.status.idle": "2022-11-26T04:52:02.585235Z",
     "shell.execute_reply": "2022-11-26T04:52:02.581539Z",
     "shell.execute_reply.started": "2022-11-26T04:52:02.442708Z"
    }
   },
   "outputs": [],
   "source": [
    "model_1 = LinearRegression()\n",
    "error, score = do_prediction(model_1)\n",
    "\n",
    "print('Linear Regression MAE: {}'.format(round(error,2)))\n",
    "print('Cross validation score: {}'.format(round(score,2)))"
   ]
  },
  {
   "cell_type": "code",
   "execution_count": null,
   "metadata": {},
   "outputs": [],
   "source": []
  }
 ],
 "metadata": {
  "kernelspec": {
   "display_name": "Python 3",
   "language": "python",
   "name": "python3"
  },
  "language_info": {
   "codemirror_mode": {
    "name": "ipython",
    "version": 3
   },
   "file_extension": ".py",
   "mimetype": "text/x-python",
   "name": "python",
   "nbconvert_exporter": "python",
   "pygments_lexer": "ipython3",
   "version": "3.8.3"
  }
 },
 "nbformat": 4,
 "nbformat_minor": 4
}
